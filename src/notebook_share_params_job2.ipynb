{
 "cells": [
  {
   "cell_type": "code",
   "execution_count": null,
   "id": "8e3be25c",
   "metadata": {
    "vscode": {
     "languageId": "plaintext"
    }
   },
   "outputs": [],
   "source": [
    "notebook_param_updated_job2 = dbutils.widgets.get(\"notebook_param_updated_job2\")"
   ]
  },
  {
   "cell_type": "code",
   "execution_count": null,
   "id": "ee1c7703",
   "metadata": {
    "vscode": {
     "languageId": "plaintext"
    }
   },
   "outputs": [],
   "source": [
    "print(notebook_param_updated_job2)"
   ]
  }
 ],
 "metadata": {
  "language_info": {
   "name": "python"
  }
 },
 "nbformat": 4,
 "nbformat_minor": 5
}
