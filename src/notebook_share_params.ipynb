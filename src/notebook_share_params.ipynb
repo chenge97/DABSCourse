{
 "cells": [
  {
   "cell_type": "code",
   "execution_count": null,
   "id": "8e3be25c",
   "metadata": {
    "vscode": {
     "languageId": "plaintext"
    }
   },
   "outputs": [],
   "source": [
    "notebook_param = dbutils.widgets.get(\"notebook_param\")"
   ]
  },
  {
   "cell_type": "code",
   "execution_count": null,
   "id": "ee1c7703",
   "metadata": {
    "vscode": {
     "languageId": "plaintext"
    }
   },
   "outputs": [],
   "source": [
    "print(notebook_param)"
   ]
  },
  {
   "cell_type": "code",
   "execution_count": null,
   "id": "3befba73",
   "metadata": {
    "vscode": {
     "languageId": "plaintext"
    }
   },
   "outputs": [],
   "source": [
    "notebook_param_updated = notebook_param + \"- updated\""
   ]
  },
  {
   "cell_type": "code",
   "execution_count": null,
   "id": "656e2764",
   "metadata": {
    "vscode": {
     "languageId": "plaintext"
    }
   },
   "outputs": [],
   "source": [
    "dbutils.jobs.taskValues.set(key=\"notebook_param_updated\",value=notebook_param_updated)"
   ]
  }
 ],
 "metadata": {
  "language_info": {
   "name": "python"
  }
 },
 "nbformat": 4,
 "nbformat_minor": 5
}
